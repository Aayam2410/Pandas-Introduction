{
 "cells": [
  {
   "cell_type": "markdown",
   "id": "a31eba0f",
   "metadata": {},
   "source": [
    "In computer programming, pandas is a software library written for Python Programming language for data manipulation and analysis. In particular, it offers data structures and operations for manipulating numerical tables and time series."
   ]
  },
  {
   "cell_type": "markdown",
   "id": "ab2f9cb0",
   "metadata": {},
   "source": [
    "Pandas main Data Structures:-\n",
    "\n",
    "1. Dataframe - it is a 2 dimensional data structure, like a 2 dimensional array, or a table with rows and columnss\n",
    "2. Series - one row/column from a dataframe"
   ]
  }
 ],
 "metadata": {
  "kernelspec": {
   "display_name": "Python 3 (ipykernel)",
   "language": "python",
   "name": "python3"
  },
  "language_info": {
   "codemirror_mode": {
    "name": "ipython",
    "version": 3
   },
   "file_extension": ".py",
   "mimetype": "text/x-python",
   "name": "python",
   "nbconvert_exporter": "python",
   "pygments_lexer": "ipython3",
   "version": "3.9.7"
  }
 },
 "nbformat": 4,
 "nbformat_minor": 5
}
